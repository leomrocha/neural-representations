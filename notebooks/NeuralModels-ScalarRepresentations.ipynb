{
 "cells": [
  {
   "cell_type": "markdown",
   "metadata": {},
   "source": [
    "[Leo's Home page](https://leomrocha.github.com) -- [Github Page](https://github.com/leomrocha/neural-representations) -- License: [CC BY-SA 4.0](https://creativecommons.org/licenses/by-sa/4.0/)"
   ]
  },
  {
   "cell_type": "markdown",
   "metadata": {},
   "source": [
    "# Summary of Neural Models Scalar Representations"
   ]
  },
  {
   "cell_type": "markdown",
   "metadata": {},
   "source": [
    "[Leonardo M. Rocha](https://leomrocha.github.com)\n",
    "\n",
    "[Contact Me](https://leomrocha.github.io/contact/)"
   ]
  },
  {
   "cell_type": "markdown",
   "metadata": {},
   "source": [
    "## Introduction\n",
    "\n",
    "This document aims to present the global ideas of neural networks from the point of view of biological neurons. \n",
    "\n",
    "The idea is once this basic knowledge is understood and starting from a Spiking Neural Network find possible ways of representing encodings in an Artificial Neural Network setup which does not rely in temporal spikes but in atemporal values instead to be used later to find alternative encoding posibilities for use as input in current **Artificial Neuron Network Model** (*ANNM*) technologies without the need to change the entire paradigm.\n",
    "\n",
    "The present document does not intend to be a complete guide to deeply understand neural coding, but as a high level overview of the encoding mechanism and how to encode a physical property into neural values linking resources for a deeper understanding.\n",
    "\n",
    "This work is inspired by the tuning curves of real neurons and the fact that an ensemble of neurons can represent an encoding of an input into a different vector space, being able to create a linear decoder that reconstructs the initial signal.\n",
    "\n",
    "The work presented here inspired mainly by the following books:\n",
    "\n",
    "- Neural Engineering (Eliasmith and Anderson- 2003)\n",
    "- How to Build a Brain (Eliasmith - 2013)"
   ]
  },
  {
   "cell_type": "markdown",
   "metadata": {},
   "source": [
    "## Important Concepts:\n",
    "\n",
    "These are the concepts that should be retained from the current document\n",
    "\n",
    "- **Neuron Spike**: when a neuron fires\n",
    "- **Leaky Integrate and Fire Neuron (LIF)**: A set of neural models used to represent and study the brain\n",
    "- **Neural Ensemble**: a set of neurons representing a computation\n",
    "- **Neural Response Curve**: how a neuron encodes (in firing frenquency) to an input value\n",
    "- **Neural Tuning Curve**: What the neural firing frequency response to an input means in the input domain; being the input domain the possible input values given to the neuron to encode.\n",
    "- **Sparse Distributed Representation**: A vector that turns on a few values to encode an input"
   ]
  },
  {
   "cell_type": "markdown",
   "metadata": {},
   "source": [
    "## How neurons encode values\n",
    "\n",
    "I am going to lie now, it is not a big lie but this is not a complete picture of what happens. Even if there is much (much) more to how a neuron works this description is enough for the present study.\n",
    "\n",
    "Even if there are [many neural representations](https://en.wikipedia.org/wiki/Biological_neuron_model), the set of models that is enough to understand the general mechanics are the [Leaky Integrate and Fire Model](https://neuronaldynamics.epfl.ch/online/Ch1.S3.html)\n",
    "\n",
    "To simplify, a neuron can be in one of two states:\n",
    "1. firing\n",
    "2. not firing\n",
    "\n",
    "For a neuron to fire it needs to accumulate enough charge to pass a firing threshold. \n",
    "\n",
    "This threshold is attained by accumulating charge that comes from spikes of neurons connected to the dentrites of the neuron in question (the one we are analyzing). \n",
    "The _leaky_ model means that it loses charge all the time, which means that it needs to be receiving more energy than the one it is losing to attain the firing threshold.\n",
    "\n",
    "When a neuron fires it is called a spike, and after has a refractary period in which it can not fire while is charging again.\n",
    "\n",
    "\n",
    "For the purposes of the current study of the neuron, what we care about more than if it fired or not is the firing frequency, which will represent a physical property in an encoder.\n",
    "\n",
    "You can see an example for a single neuron in the [Nengo documentation](https://www.nengo.ai/nengo/v3.0.0/examples/basic/single-neuron.html)\n",
    "\n",
    "### Noise\n",
    "\n",
    "There is another important point to be made: [brains are noisy](https://en.wikipedia.org/wiki/Neuronal_noise), there is a lot of noise and this implies that the brain has also mechanisms to cope with it."
   ]
  },
  {
   "cell_type": "markdown",
   "metadata": {},
   "source": [
    "### Human Eye Horizontal Position Example\n",
    "\n",
    "Let's start with an example focusing on the encoding of the horizontal position of the eye. \n",
    "This organ and how it encodes values [has](https://jeb.biologists.org/content/jexbio/146/1/195.full.pdf) [been](https://www.biorxiv.org/content/10.1101/2020.10.28.359620v1) [deeply](https://www.ncbi.nlm.nih.gov/pmc/articles/PMC6621321/) [studied](https://jov.arvojournals.org/article.aspx?articleid=2193753) just to link a few studies on the subject.\n",
    "\n",
    "There are many things that we could do to encode the position of an eye, let's start by what we can do in a robot.\n",
    "\n",
    "In a robot we can encode the camera (eye) horizontal position as a voltage value, which we can set between a minimum and a maximum. Let's say that our interval is [0,1] being 0 the outmost left and 1 the outmost right. this might be good for a circuit where this values can be interpreted directly, but in a noisy environment which encodes values in spikes this is not the best thing to do.\n",
    "\n",
    "Instead what the brain does is use a set of neurons to represent a single scalar value. In this setup, each neuron has a firing rate which can be represented visually in what is called a \"Neural Tuning Curve\", this has also been studied in the [Primary Visual Cortex](https://en.wikipedia.org/wiki/Visual_cortex#Primary_visual_cortex_(V1)). \n",
    "You can see for example this study on [Sensory Coding](https://journals.plos.org/plosbiology/article?id=10.1371/journal.pbio.0040092).\n",
    "\n",
    "So in this case, what we have is a set of neurons each firing at a different rate, and covering a frequency spectrum that can later be decoded to a single scalar value. \n",
    "\n",
    "While there are [many](https://www.frontiersin.org/articles/10.3389/fncir.2019.00075/full) [publications](https://www.ncbi.nlm.nih.gov/pmc/articles/PMC6705607/) on [encoding](https://neuronaldynamics.epfl.ch/online/Ch11.S3.html) and  [decoding](https://pillowlab.princeton.edu/pubs/Yates20_JNPH.pdf) [mechanisms](https://hal.archives-ouvertes.fr/hal-01848442/document), we can decode a value from a [neural ensemble](https://en.wikipedia.org/wiki/Neuronal_ensemble) (a set of neurons representing a value or computation that we care about) with a [linear](https://www.ncbi.nlm.nih.gov/pmc/articles/PMC3864805/) [function](https://oxford.universitypressscholarship.com/view/10.1093/acprof:oso/9780199794546.001.0001/acprof-9780199794546) which might seem counter intuitive as the encoders (and what makes the neural computation powerful) are non-linear.\n",
    "\n",
    "\n",
    "For all the purposes now we'll consider only a *linear decoder*, while the encoders are of *non-linear* nature."
   ]
  },
  {
   "cell_type": "markdown",
   "metadata": {},
   "source": [
    "We can see here the screenshots of a scalar representation simulated by 50 spiking neurons done with [Nengo](https://www.nengo.ai/index.html).\n",
    "\n",
    "For example, a simple unitary encoding function with 50 neurons produce the following tuning curves.\n",
    "\n",
    "The curve on the top represents how each of the 50 neurons fires (in frequency) depending on the exitatory input value.\n",
    "\n",
    "The bottom graph which represents the **Tuning Curves** of all the 50 neurons. Each curve relates the firing rate of the neuron with the eye position represented in a [-1,+1] value range, being 0 the center."
   ]
  },
  {
   "cell_type": "markdown",
   "metadata": {},
   "source": [
    "![Tuning Curves of a Nengo simulation](imgs/tuning-curves-50n.png)"
   ]
  },
  {
   "cell_type": "markdown",
   "metadata": {},
   "source": [
    "And a screenshot of nengo simulation of the same 50 neuron unitary function encoding:\n",
    "\n",
    "This image shows:\n",
    "\n",
    "- At the left: A bar that was moved during the simulation changing the input value \n",
    "- at the bottom left graph: The input value (exitatory) in time\n",
    "- Top Right graph: The *decoded* value (linear decoder), see the comparison with the input\n",
    "- Center graph in blue: the spikes of each neuron in time\n",
    "- Center right in gray and black squares: the 50 neurons current state, black ones are inactive, the closest to white the more active at the moment.\n",
    "\n"
   ]
  },
  {
   "cell_type": "markdown",
   "metadata": {},
   "source": [
    "![Nengo simulation of 50 neurons](imgs/example-nengo-50n.png)"
   ]
  },
  {
   "cell_type": "markdown",
   "metadata": {},
   "source": [
    "## Sparse Distributed Representations\n",
    "\n",
    "Again, I will not enter the field in depth, but just try to make a \n",
    "\n",
    "As you can see in the previous image, on the instant activity representation (the black-gray-white squares), only some neurons are firing at a certain input, not all of them. This is what is called a **Sparse Representation**, while **Distributed Representation** means that not only many neurons are inactive (actually most of them), but that those neurons are distributed among the entire neuron ensemble\n",
    "\n",
    "It is not shown here, but bigger the neuron ensemble, the sparser we can make it, this leads to a better and more accurate reconstruction of the input signal in the noisy environment.\n",
    "\n",
    "It is important to note that these representations contain strong redundancy, which means that a single (or many) failures due to noise, a neuron \"breaking\" or any other external factor can be handled, even if with a bit of loss of reconstruction accuracy.\n",
    "\n",
    "### A few reference on the subject:\n",
    "\n",
    "- [Berkeley](http://redwood.berkeley.edu/bruno/papers/VR.pdf)\n",
    "- [Scholarpedia](http://www.scholarpedia.org/article/Sparse_coding)\n",
    "- Numenta has [great](https://arxiv.org/abs/1601.00720) [resources](https://numenta.com/neuroscience-research/sparse-distributed-representations/) on the [subject](https://arxiv.org/abs/1503.07469) \n",
    "\n"
   ]
  },
  {
   "cell_type": "markdown",
   "metadata": {},
   "source": [
    "### Importance of Sparse Distributed Representations\n",
    "\n",
    "While it might seem counter-intuitive and wasting resources to represent one scalar input with many neurons, this approach has many advantages from the processing point of view in the brain. \n",
    "The main advantages are:\n",
    "1. deal with noise\n",
    "2. gracefully deal with failures (catastrophic failures are mostly avoided, unless a rock crushes the head)\n",
    "3. one single neural ensemble can encode different inputs differently \n",
    "4. sparse representations can be combined in different ways allowing for more complex representations on input set values\n",
    "\n",
    "The possibility to combine higly dimensional vectors allows for complex non-linear computations in the input sets which is what the brain needs to do.\n",
    "\n",
    "I higly recommend reading the following to understand better the subject:\n",
    "- [How do neurons operate on sparse distributed representations? ](https://arxiv.org/abs/1601.00720)\n",
    "- [Properties of Sparse Distributed Representations and their Application to Hierarchical Temporal Memory](https://arxiv.org/abs/1503.07469) \n",
    "\n",
    "This is the base on which I base studies that I will publish later."
   ]
  },
  {
   "cell_type": "markdown",
   "metadata": {},
   "source": [
    "## Conclusion\n",
    "\n",
    "\n",
    "- In the brain an input scalar is represented by a **neural ensemble** of many neurons, each having a different _frequency firing response_ to different input values.\n",
    "- A **LIF (Leaky Integrate and Fire) Neuron** is a model that gets charge while there is input and continuously loses charge, if the input is stronger than the leak it will accumulate enough charge to pass the **firing threshold**, making the neuron fire\n",
    "- The graph showing the firing frequency response curves for all the neurons is the **Response Curve Graph**\n",
    "- The graph showing how the firing frequency of each neuron relates to the input value (for example the eye position) represents **Tuning Curves**\n",
    "- Most neurons are inactive or present low activity at a certain input value, this is a **Sparse Distributed Representation**\n",
    "- **Sparse Distributed Representation** allow for noise and failure resilient complex computations in a defined vector space.\n"
   ]
  }
 ],
 "metadata": {
  "kernelspec": {
   "display_name": "Python 3",
   "language": "python",
   "name": "python3"
  },
  "language_info": {
   "codemirror_mode": {
    "name": "ipython",
    "version": 3
   },
   "file_extension": ".py",
   "mimetype": "text/x-python",
   "name": "python",
   "nbconvert_exporter": "python",
   "pygments_lexer": "ipython3",
   "version": "3.8.5"
  }
 },
 "nbformat": 4,
 "nbformat_minor": 4
}
