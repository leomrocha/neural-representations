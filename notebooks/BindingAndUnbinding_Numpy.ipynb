{
 "cells": [
  {
   "cell_type": "markdown",
   "metadata": {},
   "source": [
    "[Leo's Home page](https://leomrocha.github.com) -- [Github Page](https://github.com/leomrocha/neural-representations) -- License: [CC BY-SA 4.0](https://creativecommons.org/licenses/by-sa/4.0/)"
   ]
  },
  {
   "cell_type": "markdown",
   "metadata": {},
   "source": [
    "# Binding and Unbinding Vectors"
   ]
  },
  {
   "cell_type": "markdown",
   "metadata": {},
   "source": [
    "[Leonardo M. Rocha](https://leomrocha.github.com)\n",
    "\n",
    "[Contact Me](https://leomrocha.github.io/contact/)"
   ]
  },
  {
   "cell_type": "markdown",
   "metadata": {},
   "source": [
    "## Introduction\n",
    "\n",
    "This notebook has as purpose to show the binding and unbinding of vectors.\n",
    "\n",
    "In signal processing [convolution](https://en.wikipedia.org/wiki/Convolution) and [deconvolution](https://en.wikipedia.org/wiki/Deconvolution) are widely used in all types of signals. While in Artificial Neural Networks (ANNs) they are mostly used in  computer vision (although some implementations are not strictly a convolution operation) they are not commonly used in the study of embeddings.\n",
    "\n",
    "This notebook focus on implementing a convolution and its reverse deconvolution operation in order to be able to _bind_ and _unbind_ vectors to get some inspiration for ANNs.  This is inspired by the work presented in [Neural Engineering](https://mitpress.mit.edu/books/neural-engineering) by _Eliasmith & Anderson_.\n",
    "\n",
    "\n",
    "The notebooks can be found at the [neural-representation repo](https://github.com/leomrocha/neural-representations) and the completed code and all the tests are available at [minibrain's sequence directory](https://github.com/leomrocha/minibrain/blob/master/predictors/sequence/convolutions.py)\n",
    "\n"
   ]
  },
  {
   "cell_type": "code",
   "execution_count": 1,
   "metadata": {},
   "outputs": [],
   "source": [
    "import numpy as np\n",
    "from numpy import fft\n",
    "import matplotlib.pyplot as plt\n",
    "%matplotlib inline"
   ]
  },
  {
   "cell_type": "code",
   "execution_count": 2,
   "metadata": {},
   "outputs": [],
   "source": [
    "#Circular Convolution Definition\n",
    "#adapted from here https://github.com/fchollet/keras/issues/2518\n",
    "# and https://stackoverflow.com/questions/35474078/python-1d-array-circular-convolution\n",
    "#copied from:\n",
    "#https://stackoverflow.com/questions/17473917/is-there-a-equivalent-of-scipy-signal-deconvolve-for-2d-arrays\n",
    "\n",
    "def holographic_merge(x,y):\n",
    "    x_fft = fft.fftshift(fft.fftn(x))\n",
    "    y_fft = fft.fftshift(fft.fftn(y))\n",
    "    return fft.fftshift(fft.ifftn(fft.ifftshift(x_fft*y_fft)))\n",
    "\n",
    "def holographic_unmerge(z, y):\n",
    "    z_fft = fft.fftshift(fft.fftn(z))\n",
    "    y_fft = fft.fftshift(fft.fftn(y))\n",
    "    return np.around(fft.fftshift(fft.ifftn(fft.ifftshift(z_fft/y_fft))),14)\n",
    "\n",
    "#Lessons Learned:\n",
    "# - Convolution and Deconvolution precision depend on each other (deconv will have less)\n",
    "# - I was missing the fftshift part also .... I NEED TO REVIEW MORE MATH! "
   ]
  },
  {
   "cell_type": "markdown",
   "metadata": {},
   "source": [
    "Here some random values and made the matrix a bit sparse to lightly simulate what would happen in the brain. "
   ]
  },
  {
   "cell_type": "code",
   "execution_count": 3,
   "metadata": {},
   "outputs": [],
   "source": [
    "Ar, Ai = np.concatenate([np.random.random(2), np.zeros(3), \n",
    "                         np.random.random(1), np.zeros(4)]), np.zeros(10)\n",
    "Br, Bi = np.concatenate([np.zeros(2), np.random.random(3),\n",
    "                        np.zeros(1), np.random.random(2), np.zeros(2)]), np.zeros(10)"
   ]
  },
  {
   "cell_type": "code",
   "execution_count": 4,
   "metadata": {},
   "outputs": [],
   "source": [
    "x = np.vectorize(complex)(Ar,Ai)\n",
    "y = np.vectorize(complex)(Br,Bi)"
   ]
  },
  {
   "cell_type": "code",
   "execution_count": 5,
   "metadata": {},
   "outputs": [
    {
     "data": {
      "text/plain": [
       "((10,),\n",
       " (10,),\n",
       " array([0.9731084 , 0.45245477, 0.        , 0.        , 0.        ,\n",
       "        0.81200172, 0.        , 0.        , 0.        , 0.        ]),\n",
       " array([0.        , 0.        , 0.3386613 , 0.99856387, 0.00930009,\n",
       "        0.        , 0.79260153, 0.76094083, 0.        , 0.        ]))"
      ]
     },
     "execution_count": 5,
     "metadata": {},
     "output_type": "execute_result"
    }
   ],
   "source": [
    "x.shape, y.shape, Ar,Br"
   ]
  },
  {
   "cell_type": "markdown",
   "metadata": {},
   "source": [
    "Merging vectors in order _x,y_"
   ]
  },
  {
   "cell_type": "code",
   "execution_count": 6,
   "metadata": {},
   "outputs": [],
   "source": [
    "z =  holographic_merge(x,y)"
   ]
  },
  {
   "cell_type": "markdown",
   "metadata": {},
   "source": [
    "The result is the same dimension as the inputs, preserving embedded dimension space is important in ANN applications."
   ]
  },
  {
   "cell_type": "code",
   "execution_count": 7,
   "metadata": {},
   "outputs": [
    {
     "data": {
      "text/plain": [
       "((10,),\n",
       " array([0.00420787+2.59254116e-18j, 0.77128721+2.06396263e-17j,\n",
       "        1.37408781-6.55639282e-17j, 1.15512688-1.04606639e-17j,\n",
       "        0.00755169+8.22918004e-17j, 0.        +1.09010266e-17j,\n",
       "        0.6435938 -2.20032568e-17j, 0.94743941+4.17451538e-17j,\n",
       "        1.12493981+3.68886173e-18j, 0.46085498-6.38311611e-17j]))"
      ]
     },
     "execution_count": 7,
     "metadata": {},
     "output_type": "execute_result"
    }
   ],
   "source": [
    "z.shape, z"
   ]
  },
  {
   "cell_type": "markdown",
   "metadata": {},
   "source": [
    "Now unbinding the vectors and recovering the original (still the problem here is that there is the need to have the las added value to the convolution)"
   ]
  },
  {
   "cell_type": "code",
   "execution_count": 8,
   "metadata": {},
   "outputs": [],
   "source": [
    "xp = holographic_unmerge(z,y)"
   ]
  },
  {
   "cell_type": "code",
   "execution_count": 9,
   "metadata": {},
   "outputs": [
    {
     "data": {
      "text/plain": [
       "array([0.9731084 , 0.45245477, 0.        , 0.        , 0.        ,\n",
       "       0.81200172, 0.        , 0.        , 0.        , 0.        ])"
      ]
     },
     "execution_count": 9,
     "metadata": {},
     "output_type": "execute_result"
    }
   ],
   "source": [
    "x.real"
   ]
  },
  {
   "cell_type": "code",
   "execution_count": 10,
   "metadata": {
    "scrolled": true
   },
   "outputs": [
    {
     "data": {
      "text/plain": [
       "array([ 0.9731084 ,  0.45245477,  0.        ,  0.        ,  0.        ,\n",
       "        0.81200172,  0.        , -0.        ,  0.        , -0.        ])"
      ]
     },
     "execution_count": 10,
     "metadata": {},
     "output_type": "execute_result"
    }
   ],
   "source": [
    "xp.real"
   ]
  },
  {
   "cell_type": "markdown",
   "metadata": {},
   "source": [
    "## Gotcha!\n",
    "After fighting with too many issues wiht the previous implementations I've found that\n",
    "with Scipy there is somebody that managed to do it correctly\n",
    "https://stackoverflow.com/questions/17473917/is-there-a-equivalent-of-scipy-signal-deconvolve-for-2d-arrays"
   ]
  },
  {
   "cell_type": "code",
   "execution_count": 11,
   "metadata": {},
   "outputs": [
    {
     "data": {
      "image/png": "[encoded data removed]",
      "text/plain": [
       "<Figure size 432x288 with 4 Axes>"
      ]
     },
     "metadata": {
      "needs_background": "light"
     },
     "output_type": "display_data"
    }
   ],
   "source": [
    "#copied from:\n",
    "#https://stackoverflow.com/questions/17473917/is-there-a-equivalent-of-scipy-signal-deconvolve-for-2d-arrays\n",
    "\n",
    "from scipy import fftpack\n",
    "from scipy import stats\n",
    "\n",
    "sx, sy = 100, 100\n",
    "X, Y = np.ogrid[0:sx, 0:sy]\n",
    "star = stats.norm.pdf(np.sqrt((X - sx/2)**2 + (Y - sy/2)**2), 0, 4)\n",
    "psf = stats.norm.pdf(np.sqrt((X - sx/2)**2 + (Y - sy/2)**2), 0, 10)\n",
    "\n",
    "def convolve(star, psf):\n",
    "    star_fft = fftpack.fftshift(fftpack.fftn(star))\n",
    "    psf_fft = fftpack.fftshift(fftpack.fftn(psf))\n",
    "    return fftpack.fftshift(fftpack.ifftn(fftpack.ifftshift(star_fft*psf_fft)))\n",
    "\n",
    "def deconvolve(star, psf):\n",
    "    star_fft = fftpack.fftshift(fftpack.fftn(star))\n",
    "    psf_fft = fftpack.fftshift(fftpack.fftn(psf))\n",
    "    return fftpack.fftshift(fftpack.ifftn(fftpack.ifftshift(star_fft/psf_fft)))\n",
    "\n",
    "star_conv = convolve(star, psf)\n",
    "star_deconv = deconvolve(star_conv, psf)\n",
    "\n",
    "f, axes = plt.subplots(2,2)\n",
    "axes[0,0].imshow(star)\n",
    "axes[0,1].imshow(psf)\n",
    "axes[1,0].imshow(np.real(star_conv))\n",
    "axes[1,1].imshow(np.real(star_deconv))\n",
    "plt.show()"
   ]
  },
  {
   "cell_type": "code",
   "execution_count": 12,
   "metadata": {},
   "outputs": [],
   "source": [
    "z = convolve(x,y)"
   ]
  },
  {
   "cell_type": "code",
   "execution_count": 13,
   "metadata": {},
   "outputs": [],
   "source": [
    "xp = deconvolve(z,y)"
   ]
  },
  {
   "cell_type": "code",
   "execution_count": 14,
   "metadata": {},
   "outputs": [
    {
     "data": {
      "text/plain": [
       "array([[ 0.9731084 ,  0.45245477,  0.        , -0.        ,  0.        ,\n",
       "         0.81200172, -0.        ,  0.        ,  0.        , -0.        ],\n",
       "       [ 0.9731084 ,  0.45245477,  0.        ,  0.        ,  0.        ,\n",
       "         0.81200172,  0.        ,  0.        ,  0.        ,  0.        ]])"
      ]
     },
     "execution_count": 14,
     "metadata": {},
     "output_type": "execute_result"
    }
   ],
   "source": [
    "np.around([xp.real, x.real], 15)"
   ]
  },
  {
   "cell_type": "code",
   "execution_count": 15,
   "metadata": {},
   "outputs": [],
   "source": [
    "yp = deconvolve(z,x)"
   ]
  },
  {
   "cell_type": "code",
   "execution_count": 16,
   "metadata": {},
   "outputs": [
    {
     "data": {
      "text/plain": [
       "array([[ 0.        ,  0.        ,  0.3386613 ,  0.99856387,  0.00930009,\n",
       "         0.        ,  0.79260153,  0.76094083,  0.        ,  0.        ],\n",
       "       [ 0.        , -0.        ,  0.3386613 ,  0.99856387,  0.00930009,\n",
       "         0.        ,  0.79260153,  0.76094083,  0.        , -0.        ]])"
      ]
     },
     "execution_count": 16,
     "metadata": {},
     "output_type": "execute_result"
    }
   ],
   "source": [
    "np.around([y.real,yp.real], 15)"
   ]
  },
  {
   "cell_type": "markdown",
   "metadata": {},
   "source": [
    "## Conclusion\n",
    "\n",
    "The present code is able to bind and unbind vectors preserving order. This is important for events that must be taken into account in order.\n",
    "\n",
    "The code is shown to work for one and two dimensional vector spaces, it can be extended for more dimensions.\n",
    "\n",
    "While implementing this I had to review math and working with discrete signals which has some gotchas I didn't remember at the moment, for example having to shift the signal."
   ]
  }
 ],
 "metadata": {
  "kernelspec": {
   "display_name": "Python 3",
   "language": "python",
   "name": "python3"
  },
  "language_info": {
   "codemirror_mode": {
    "name": "ipython",
    "version": 3
   },
   "file_extension": ".py",
   "mimetype": "text/x-python",
   "name": "python",
   "nbconvert_exporter": "python",
   "pygments_lexer": "ipython3",
   "version": "3.8.5"
  }
 },
 "nbformat": 4,
 "nbformat_minor": 4
}
